{
 "cells": [
  {
   "cell_type": "code",
   "execution_count": 5,
   "metadata": {},
   "outputs": [],
   "source": [
    "import numpy as np\n",
    "import matplotlib.pyplot as plt\n",
    "import pandas as pd\n",
    "import copy\n",
    "import time\n",
    "import tensorflow as tf\n",
    "import math\n",
    "\n",
    "# train\n",
    "import torch\n",
    "from torch import nn\n",
    "from torch.nn import functional as F\n",
    "\n",
    "# load data\n",
    "from torch.utils.data import DataLoader\n",
    "from torchvision import datasets, transforms"
   ]
  },
  {
   "cell_type": "markdown",
   "metadata": {},
   "source": [
    "## 1. Data\n",
    "* you can use any data normalisation method\n",
    "* one example of the data normalisation is whitenning as given by:"
   ]
  },
  {
   "cell_type": "code",
   "execution_count": 2,
   "metadata": {},
   "outputs": [],
   "source": [
    "transform = transforms.Compose([\n",
    "    transforms.ToTensor(),\n",
    "    transforms.Normalize((0.1307,),(0.3081,)),  # mean value = 0.1307, standard deviation value = 0.3081\n",
    "])"
   ]
  },
  {
   "cell_type": "markdown",
   "metadata": {},
   "source": [
    "* load the MNIST dataset\n",
    "* use the original `training` dataset for `testing` your model\n",
    "* use the original `testing` dataset for `training` your model"
   ]
  },
  {
   "cell_type": "code",
   "execution_count": 3,
   "metadata": {},
   "outputs": [
    {
     "name": "stdout",
     "output_type": "stream",
     "text": [
      "Downloading http://yann.lecun.com/exdb/mnist/train-images-idx3-ubyte.gz to ./MNIST\\MNIST\\raw\\train-images-idx3-ubyte.gz\n"
     ]
    },
    {
     "data": {
      "application/vnd.jupyter.widget-view+json": {
       "model_id": "272100f77c72456794b0af50c93ed31a",
       "version_major": 2,
       "version_minor": 0
      },
      "text/plain": [
       "HBox(children=(IntProgress(value=1, bar_style='info', max=1), HTML(value='')))"
      ]
     },
     "metadata": {},
     "output_type": "display_data"
    },
    {
     "name": "stdout",
     "output_type": "stream",
     "text": [
      "Extracting ./MNIST\\MNIST\\raw\\train-images-idx3-ubyte.gz to ./MNIST\\MNIST\\raw\n",
      "Downloading http://yann.lecun.com/exdb/mnist/train-labels-idx1-ubyte.gz to ./MNIST\\MNIST\\raw\\train-labels-idx1-ubyte.gz\n"
     ]
    },
    {
     "data": {
      "application/vnd.jupyter.widget-view+json": {
       "model_id": "a17b71f2d0564e2f8cd4f4c89be0e077",
       "version_major": 2,
       "version_minor": 0
      },
      "text/plain": [
       "HBox(children=(IntProgress(value=1, bar_style='info', max=1), HTML(value='')))"
      ]
     },
     "metadata": {},
     "output_type": "display_data"
    },
    {
     "name": "stdout",
     "output_type": "stream",
     "text": [
      "Extracting ./MNIST\\MNIST\\raw\\train-labels-idx1-ubyte.gz to ./MNIST\\MNIST\\raw\n",
      "Downloading http://yann.lecun.com/exdb/mnist/t10k-images-idx3-ubyte.gz to ./MNIST\\MNIST\\raw\\t10k-images-idx3-ubyte.gz\n"
     ]
    },
    {
     "data": {
      "application/vnd.jupyter.widget-view+json": {
       "model_id": "0eeb260a705647f1beac3fca4a4c9177",
       "version_major": 2,
       "version_minor": 0
      },
      "text/plain": [
       "HBox(children=(IntProgress(value=1, bar_style='info', max=1), HTML(value='')))"
      ]
     },
     "metadata": {},
     "output_type": "display_data"
    },
    {
     "name": "stdout",
     "output_type": "stream",
     "text": [
      "Extracting ./MNIST\\MNIST\\raw\\t10k-images-idx3-ubyte.gz to ./MNIST\\MNIST\\raw\n",
      "Downloading http://yann.lecun.com/exdb/mnist/t10k-labels-idx1-ubyte.gz to ./MNIST\\MNIST\\raw\\t10k-labels-idx1-ubyte.gz\n"
     ]
    },
    {
     "data": {
      "application/vnd.jupyter.widget-view+json": {
       "model_id": "58413ae5908c4a35ac5f7be35ff7862b",
       "version_major": 2,
       "version_minor": 0
      },
      "text/plain": [
       "HBox(children=(IntProgress(value=1, bar_style='info', max=1), HTML(value='')))"
      ]
     },
     "metadata": {},
     "output_type": "display_data"
    },
    {
     "name": "stdout",
     "output_type": "stream",
     "text": [
      "Extracting ./MNIST\\MNIST\\raw\\t10k-labels-idx1-ubyte.gz to ./MNIST\\MNIST\\raw\n",
      "Processing...\n"
     ]
    },
    {
     "name": "stderr",
     "output_type": "stream",
     "text": [
      "C:\\Users\\KSY\\Anaconda3\\lib\\site-packages\\torchvision\\datasets\\mnist.py:469: UserWarning: The given NumPy array is not writeable, and PyTorch does not support non-writeable tensors. This means you can write to the underlying (supposedly non-writeable) NumPy array using the tensor. You may want to copy the array to protect its data or make it writeable before converting it to a tensor. This type of warning will be suppressed for the rest of this program. (Triggered internally at  ..\\torch\\csrc\\utils\\tensor_numpy.cpp:141.)\n",
      "  return torch.from_numpy(parsed.astype(m[2], copy=False)).view(*s)\n"
     ]
    },
    {
     "name": "stdout",
     "output_type": "stream",
     "text": [
      "Done!\n"
     ]
    }
   ],
   "source": [
    "data_path = './MNIST'\n",
    "\n",
    "data_test   = datasets.MNIST(root = data_path, train= True, download=True, transform= transform)\n",
    "data_train  = datasets.MNIST(root = data_path, train= False, download=True, transform= transform)\n"
   ]
  },
  {
   "cell_type": "markdown",
   "metadata": {},
   "source": [
    "* Note that the number of your `training` data must be 10,000\n",
    "* Note that the number of your `testing` data must be 60,000\n"
   ]
  },
  {
   "cell_type": "code",
   "execution_count": 4,
   "metadata": {},
   "outputs": [
    {
     "name": "stdout",
     "output_type": "stream",
     "text": [
      "the number of your training data (must be 10,000) = 10000\n",
      "the number of your testing data (must be 60,000) = 60000\n"
     ]
    }
   ],
   "source": [
    "print(\"the number of your training data (must be 10,000) =\", data_train.__len__())\n",
    "print(\"the number of your testing data (must be 60,000) =\", data_test.__len__())\n"
   ]
  },
  {
   "cell_type": "markdown",
   "metadata": {},
   "source": [
    "## Model\n",
    "* design a neural network architecture with a combination of convolutional layers and fully connected layers\n",
    "* use any number of feature layers (convolutional layers)\n",
    "* use any size of convolutional kernel_size\n",
    "* use any number of classification layers (fully connected layers)\n",
    "* use any dimension of classification layers\n",
    "* use any type of activation functions\n",
    "* one example model of the convolutional neural network is as follows:"
   ]
  },
  {
   "cell_type": "code",
   "execution_count": 6,
   "metadata": {},
   "outputs": [],
   "source": [
    "class MyModel(nn.Module):\n",
    "\n",
    "    def __init__(self, num_classes=10, size_kernel=5):\n",
    "\n",
    "        super(MyModel, self).__init__()\n",
    "\n",
    "        # *********************************************************************\n",
    "        # input parameter\n",
    "        #\n",
    "        # data size:\n",
    "        #   mnist   : 28 * 28\n",
    "        # *********************************************************************\n",
    "        self.number_class   = num_classes\n",
    "        self.size_kernel    = size_kernel        \n",
    "        \n",
    "        # *********************************************************************\n",
    "        # feature layer\n",
    "        # *********************************************************************\n",
    "        self.conv1          = nn.Conv2d(1, 6, kernel_size=size_kernel, stride=1, padding=int((size_kernel-1)/2), bias=True)\n",
    "        self.conv2          = nn.Conv2d(6, 16, kernel_size=size_kernel, stride=1, padding=int((size_kernel-1)/2), bias=True)\n",
    "\n",
    "        self.conv_layer1    = nn.Sequential(self.conv1, nn.MaxPool2d(kernel_size=2), nn.ReLU(True))\n",
    "        self.conv_layer2    = nn.Sequential(self.conv2, nn.MaxPool2d(kernel_size=2), nn.ReLU(True))\n",
    "\n",
    "        self.feature        = nn.Sequential(self.conv_layer1, self.conv_layer2)\n",
    "        \n",
    "        # *********************************************************************\n",
    "        # classifier layer\n",
    "        # *********************************************************************\n",
    "        self.fc1        = nn.Linear(16*4*4, 120, bias=True)\n",
    "        self.fc2        = nn.Linear(120, 84, bias=True)\n",
    "        self.fc3        = nn.Linear(84, 10, bias=True)\n",
    "\n",
    "        self.fc_layer1  = nn.Sequential(self.fc1, nn.ReLU(True))\n",
    "        self.fc_layer2  = nn.Sequential(self.fc2, nn.ReLU(True))\n",
    "        self.fc_layer3  = nn.Sequential(self.fc3, nn.ReLU(True))\n",
    "\n",
    "        self.classifier = nn.Sequential(self.fc_layer1, self.fc_layer2, self.fc_layer3)\n",
    "        \n",
    "        self._initialize_weight()        \n",
    "        \n",
    "    def _initialize_weight(self):\n",
    "\n",
    "        for m in self.modules():\n",
    "            \n",
    "            if isinstance(m, nn.Conv2d):\n",
    "                \n",
    "                nn.init.xavier_uniform_(m.weight, gain=math.sqrt(2))\n",
    "\n",
    "                if m.bias is not None:\n",
    "\n",
    "                    m.bias.data.zero_()\n",
    "\n",
    "            elif isinstance(m, nn.Linear):\n",
    "\n",
    "                nn.init.xavier_uniform_(m.weight, gain=math.sqrt(2))\n",
    "                \n",
    "                if m.bias is not None:\n",
    "\n",
    "                    m.bias.data.zero_()\n",
    "\n",
    "    def forward(self, x):\n",
    "\n",
    "        x = self.feature(x)\n",
    "        x = x.view(x.size(0), -1)\n",
    "        x = self.classifier(x)\n",
    "\n",
    "        return x\n"
   ]
  },
  {
   "cell_type": "markdown",
   "metadata": {},
   "source": [
    "## Loss function\n",
    "* use any type of loss function\n",
    "* design the output of the output layer considering your loss function\n",
    "\n",
    "## Optimization\n",
    "* use any stochastic gradient descent algorithm for the optimization\n",
    "* use any size of the mini-batch\n",
    "* use any optimization algorithm (for example, Momentum, AdaGrad, RMSProp, Adam)\n",
    "* use any regularization algorithm (for example, Dropout, Weight Decay)\n",
    "* use any annealing scheme for the learning rate (for example, constant, decay, staircase)"
   ]
  },
  {
   "cell_type": "code",
   "execution_count": 7,
   "metadata": {},
   "outputs": [],
   "source": [
    "def accuracy(log_pred, y_true):\n",
    "    y_pred = torch.argmax(log_pred, dim=1)\n",
    "    return (y_pred == y_true).to(torch.float).mean()\n"
   ]
  },
  {
   "cell_type": "code",
   "execution_count": 12,
   "metadata": {},
   "outputs": [
    {
     "name": "stdout",
     "output_type": "stream",
     "text": [
      "done\n"
     ]
    }
   ],
   "source": [
    "batch_size = 32\n",
    "lr=0.5\n",
    "n_epochs = 100\n",
    "\n",
    "no_cuda = True\n",
    "use_cuda = not no_cuda and torch.cuda.is_available()\n",
    "device = torch.device(\"cuda\" if use_cuda else \"cpu\")\n",
    "\n",
    "train_loader = DataLoader(dataset=data_train, batch_size=batch_size, shuffle=True)\n",
    "test_loader = DataLoader(dataset=data_test, batch_size=batch_size, shuffle=True)\n",
    "\n",
    "classifier = MyModel().to(device)\n",
    "optimizer = torch.optim.SGD(classifier.parameters(), lr)\n",
    "\n",
    "criterion = nn.CrossEntropyLoss()\n",
    "\n",
    "accuracy_stats = {\n",
    "    'train': [],\n",
    "    \"test\": []\n",
    "}\n",
    "loss_stats = {\n",
    "    'train': [],\n",
    "    \"test\": []\n",
    "}\n",
    "\n",
    "for epoch in range(n_epochs):\n",
    "    \n",
    "    # TRAINING\n",
    "    train_epoch_loss = 0\n",
    "    train_epoch_acc = 0\n",
    "    \n",
    "    classifier.train()\n",
    "    \n",
    "    for X_train_batch, y_train_batch in train_loader:\n",
    "        X_train_batch, y_train_batch = X_train_batch.to(device), y_train_batch.to(device)\n",
    "        \n",
    "        optimizer.zero_grad()\n",
    "        \n",
    "        y_train_pred = classifier(X_train_batch)\n",
    "        \n",
    "        train_loss = criterion(y_train_pred, y_train_batch)\n",
    "        train_acc = accuracy(y_train_pred, y_train_batch)\n",
    "        \n",
    "        train_loss.backward()\n",
    "        optimizer.step()\n",
    "        \n",
    "        train_epoch_loss += train_loss.item()\n",
    "        train_epoch_acc += train_acc.item()\n",
    "        \n",
    "    with torch.no_grad():\n",
    "        test_epoch_loss = 0\n",
    "        test_epoch_acc = 0\n",
    "        \n",
    "        classifier.eval()\n",
    "        \n",
    "        for X_test_batch, y_test_batch in test_loader:\n",
    "            X_test_batch, y_test_batch = X_test_batch.to(device), y_test_batch.to(device)\n",
    "        \n",
    "            y_test_pred = classifier(X_test_batch)\n",
    "            \n",
    "            test_loss = criterion(y_test_pred, y_test_batch)\n",
    "            test_acc = accuracy(y_test_pred, y_test_batch)\n",
    "            \n",
    "            test_epoch_loss += test_loss.item()\n",
    "            test_epoch_acc += test_acc.item()\n",
    "            \n",
    "    loss_stats['train'].append(train_epoch_loss/len(train_loader))\n",
    "    loss_stats['test'].append(test_epoch_loss/len(test_loader))\n",
    "    accuracy_stats['train'].append(train_epoch_acc/len(train_loader))\n",
    "    accuracy_stats['test'].append(test_epoch_acc/len(test_loader))\n",
    "         \n",
    "print('done')"
   ]
  },
  {
   "cell_type": "code",
   "execution_count": 9,
   "metadata": {},
   "outputs": [
    {
     "name": "stdout",
     "output_type": "stream",
     "text": [
      "[nan, nan, nan, nan, nan, nan, nan, nan, nan, nan, nan, nan, nan, nan, nan, nan, nan, nan, nan, nan]\n"
     ]
    }
   ],
   "source": [
    "print(loss_stats['test'])"
   ]
  },
  {
   "cell_type": "code",
   "execution_count": 13,
   "metadata": {},
   "outputs": [
    {
     "data": {
      "image/png": "[encoded data removed]",
      "text/plain": [
       "<Figure size 648x648 with 1 Axes>"
      ]
     },
     "metadata": {
      "needs_background": "light"
     },
     "output_type": "display_data"
    }
   ],
   "source": [
    "plt.figure(1,figsize=(9,9))\n",
    "plt.plot(np.array(range(n_epochs)), loss_stats['train'], c='r', label='train_loss')\n",
    "plt.plot(np.array(range(n_epochs)), loss_stats['test'], label='test_loss')\n",
    "plt.legend()\n",
    "plt.title('loss')\n",
    "plt.show()"
   ]
  },
  {
   "cell_type": "code",
   "execution_count": 14,
   "metadata": {},
   "outputs": [
    {
     "data": {
      "image/png": "[encoded data removed]",
      "text/plain": [
       "<Figure size 648x648 with 1 Axes>"
      ]
     },
     "metadata": {
      "needs_background": "light"
     },
     "output_type": "display_data"
    }
   ],
   "source": [
    "plt.figure(1,figsize=(9,9))\n",
    "plt.plot(np.array(range(n_epochs)), accuracy_stats['train'], c='r', label='train_loss')\n",
    "plt.plot(np.array(range(n_epochs)), accuracy_stats['test'], label='test_loss')\n",
    "plt.legend()\n",
    "plt.title('accuracy')\n",
    "plt.show()"
   ]
  },
  {
   "cell_type": "code",
   "execution_count": 86,
   "metadata": {},
   "outputs": [],
   "source": [
    "final_train_loss = []\n",
    "final_test_loss = []\n",
    "final_train_acc = []\n",
    "final_test_acc = []"
   ]
  },
  {
   "cell_type": "code",
   "execution_count": 108,
   "metadata": {},
   "outputs": [],
   "source": [
    "final_train_loss.append(loss_stats['train'][-1])\n",
    "final_test_loss.append(loss_stats['test'][-1])\n",
    "final_train_acc.append(accuracy_stats['train'][-1])\n",
    "final_test_acc.append(accuracy_stats['test'][-1])"
   ]
  },
  {
   "cell_type": "code",
   "execution_count": 104,
   "metadata": {},
   "outputs": [
    {
     "name": "stdout",
     "output_type": "stream",
     "text": [
      "0.001297\n"
     ]
    }
   ],
   "source": [
    "print('%.6f' % final_train_loss[1])"
   ]
  },
  {
   "cell_type": "code",
   "execution_count": 115,
   "metadata": {},
   "outputs": [
    {
     "name": "stdout",
     "output_type": "stream",
     "text": [
      "mini-batch size = 32 | training accuracy = 1.000000 | testing accuracy = 0.985124\n",
      "mini-batch size = 64 | training accuracy = 1.000000 | testing accuracy = 0.982882\n",
      "mini-batch size = 128 | training accuracy = 0.999650 | testing accuracy = 0.982298\n"
     ]
    }
   ],
   "source": [
    "print('mini-batch size = 32 | training accuracy = %.6f'% final_train_acc[0], '| testing accuracy = %.6f'% final_test_acc[0])\n",
    "print('mini-batch size = 64 | training accuracy = %.6f'% final_train_acc[1], '| testing accuracy = %.6f'% final_test_acc[1])\n",
    "print('mini-batch size = 128 | training accuracy = %.6f'% final_train_acc[2], '| testing accuracy = %.6f'% final_test_acc[2])"
   ]
  },
  {
   "cell_type": "markdown",
   "metadata": {},
   "source": [
    "## 1. Plot the training and testing losses over epochs [2pt]"
   ]
  },
  {
   "cell_type": "code",
   "execution_count": 20,
   "metadata": {},
   "outputs": [
    {
     "data": {
      "image/png": "[encoded data removed]",
      "text/plain": [
       "<Figure size 648x648 with 1 Axes>"
      ]
     },
     "metadata": {
      "needs_background": "light"
     },
     "output_type": "display_data"
    }
   ],
   "source": [
    "plt.figure(1,figsize=(9,9))\n",
    "plt.plot(np.array(range(n_epochs)), loss_stats['train'], c='r', label='train_loss')\n",
    "plt.plot(np.array(range(n_epochs)), loss_stats['test'], label='test_loss')\n",
    "plt.legend()\n",
    "plt.title('loss')\n",
    "plt.show()"
   ]
  },
  {
   "cell_type": "markdown",
   "metadata": {},
   "source": [
    "## 2. Plot the training and testing accuracies over epochs [2pt]"
   ]
  },
  {
   "cell_type": "code",
   "execution_count": 19,
   "metadata": {},
   "outputs": [
    {
     "data": {
      "image/png": "[encoded data removed]",
      "text/plain": [
       "<Figure size 648x648 with 1 Axes>"
      ]
     },
     "metadata": {
      "needs_background": "light"
     },
     "output_type": "display_data"
    }
   ],
   "source": [
    "plt.figure(1,figsize=(9,9))\n",
    "plt.plot(np.array(range(n_epochs)), accuracy_stats['train'], c='r', label='train_loss')\n",
    "plt.plot(np.array(range(n_epochs)), accuracy_stats['test'], label='test_loss')\n",
    "plt.legend()\n",
    "plt.title('accuracy')\n",
    "plt.show()"
   ]
  },
  {
   "cell_type": "markdown",
   "metadata": {},
   "source": [
    "## 3. Print the final training and testing losses at convergence [2pt]\n",
    "* `*** NOTE ***` The values should be presented up to 5 decimal places (소수점 5째 자리까지 표기하시오)"
   ]
  },
  {
   "cell_type": "code",
   "execution_count": 18,
   "metadata": {},
   "outputs": [
    {
     "name": "stdout",
     "output_type": "stream",
     "text": [
      "train loss : nan\n",
      "test loss : nan\n"
     ]
    }
   ],
   "source": [
    "print('train loss : %.6f' %loss_stats['train'][-1])\n",
    "print('test loss : %.6f' %loss_stats['test'][-1])"
   ]
  },
  {
   "cell_type": "markdown",
   "metadata": {},
   "source": [
    "## 4. Print the final training and testing accuracies at convergence [20pt]\n",
    "* `*** NOTE ***` The values should be presented up to 5 decimal places (소수점 5째 자리까지 표기하시오)"
   ]
  },
  {
   "cell_type": "code",
   "execution_count": 16,
   "metadata": {},
   "outputs": [
    {
     "name": "stdout",
     "output_type": "stream",
     "text": [
      "train accuracy \" 0.097843\n",
      "test accuracy \" 0.098717\n"
     ]
    }
   ],
   "source": [
    "print('train accuracy \" %.6f' %accuracy_stats['train'][-1])\n",
    "print('test accuracy \" %.6f' %accuracy_stats['test'][-1])"
   ]
  },
  {
   "cell_type": "markdown",
   "metadata": {},
   "source": [
    "## 5. Print the testing accuracies within the last 10 epochs [5pt]\n",
    "* `*** NOTE ***` The values should be presented up to 5 decimal places (소수점 5째 자리까지 표기하시오)"
   ]
  },
  {
   "cell_type": "code",
   "execution_count": null,
   "metadata": {},
   "outputs": [],
   "source": []
  }
 ],
 "metadata": {
  "kernelspec": {
   "display_name": "Python 3",
   "language": "python",
   "name": "python3"
  },
  "language_info": {
   "codemirror_mode": {
    "name": "ipython",
    "version": 3
   },
   "file_extension": ".py",
   "mimetype": "text/x-python",
   "name": "python",
   "nbconvert_exporter": "python",
   "pygments_lexer": "ipython3",
   "version": "3.7.4"
  }
 },
 "nbformat": 4,
 "nbformat_minor": 2
}

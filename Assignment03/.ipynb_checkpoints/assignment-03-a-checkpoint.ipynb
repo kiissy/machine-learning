{
 "cells": [
  {
   "cell_type": "markdown",
   "metadata": {},
   "source": [
    "# Manipulate PyTorch Tensors\n",
    "<hr>\n",
    "\n",
    "## Matrix manipulation"
   ]
  },
  {
   "cell_type": "code",
   "execution_count": 1,
   "metadata": {},
   "outputs": [],
   "source": [
    "import torch"
   ]
  },
  {
   "cell_type": "markdown",
   "metadata": {},
   "source": [
    "### Make the matrices A and B below. Add them together to obtain a matrix C. Print these three matrices.\n",
    "$$\n",
    "A =\\begin{bmatrix}\n",
    "1 & 2 \\\\ 3 & 4\n",
    "\\end{bmatrix}  \n",
    "\\qquad \n",
    "B =\\begin{bmatrix}\n",
    "10 & 20 \\\\ 30 & 40\n",
    "\\end{bmatrix}  \\qquad C=A+B =?\n",
    "$$"
   ]
  },
  {
   "cell_type": "code",
   "execution_count": 4,
   "metadata": {},
   "outputs": [
    {
     "name": "stdout",
     "output_type": "stream",
     "text": [
      "tensor([[1., 2.],\n",
      "        [3., 4.]])\n",
      "\n",
      "tensor([[10., 20.],\n",
      "        [30., 40.]])\n",
      "\n",
      "tensor([[11., 22.],\n",
      "        [33., 44.]])\n"
     ]
    }
   ],
   "source": [
    "\n",
    "# write your code here\n",
    "\n",
    "A = torch.tensor([[1., 2.], [3., 4.]])\n",
    "B = torch.tensor([[10., 20.], [30., 40.]])\n",
    "C = A + B\n",
    "\n",
    "# print\n",
    "print(A)\n",
    "print('')\n",
    "print(B)\n",
    "print('')\n",
    "print(C)"
   ]
  },
  {
   "cell_type": "markdown",
   "metadata": {},
   "source": [
    "### Print the dimension, size and type of the matrix A. Remember, the commands are dim(), size() and type()"
   ]
  },
  {
   "cell_type": "code",
   "execution_count": 5,
   "metadata": {},
   "outputs": [
    {
     "name": "stdout",
     "output_type": "stream",
     "text": [
      "2\n",
      "\n",
      "torch.Size([2, 2])\n",
      "\n",
      "torch.FloatTensor\n"
     ]
    }
   ],
   "source": [
    "\n",
    "# write your code here\n",
    "\n",
    "print(A.dim())    # print the dimension of the matrix A\n",
    "print('')\n",
    "print(A.size())    # print the size of the matrix A\n",
    "print('')\n",
    "print(A.type())    # print the type of the matrix A"
   ]
  },
  {
   "cell_type": "markdown",
   "metadata": {},
   "source": [
    "### Convert the matrix A to be an integer matrix  (type LongTensor). Remember, the command is long(). Then print the type to check it was indeed converted."
   ]
  },
  {
   "cell_type": "code",
   "execution_count": 6,
   "metadata": {},
   "outputs": [
    {
     "name": "stdout",
     "output_type": "stream",
     "text": [
      "torch.FloatTensor\n",
      "\n",
      "torch.LongTensor\n"
     ]
    }
   ],
   "source": [
    "\n",
    "# write your code here\n",
    "\n",
    "A_long = A.long()\n",
    "\n",
    "print(A.type())    # print the type of A_long\n",
    "print('')\n",
    "print(A_long.type())    # print the type of A"
   ]
  },
  {
   "cell_type": "markdown",
   "metadata": {},
   "source": [
    "### Make a random 5 x 2 x 3 Tensor. The command is torch.rand.  Then do the following:   1) Print the tensor,  2) Print its type, 3) Print its dimension,  4) Print its size, 5) Print the size of its middle dimension."
   ]
  },
  {
   "cell_type": "code",
   "execution_count": 12,
   "metadata": {},
   "outputs": [
    {
     "name": "stdout",
     "output_type": "stream",
     "text": [
      "tensor([[[0.6877, 0.4035, 0.0729],\n",
      "         [0.7353, 0.0663, 0.6565]],\n",
      "\n",
      "        [[0.0959, 0.9950, 0.9997],\n",
      "         [0.1955, 0.9715, 0.6827]],\n",
      "\n",
      "        [[0.7749, 0.9479, 0.0446],\n",
      "         [0.3076, 0.4330, 0.5395]],\n",
      "\n",
      "        [[0.3783, 0.9977, 0.2098],\n",
      "         [0.8536, 0.1599, 0.9367]],\n",
      "\n",
      "        [[0.4679, 0.1891, 0.7197],\n",
      "         [0.1037, 0.4846, 0.9497]]])\n",
      "torch.FloatTensor\n",
      "3\n",
      "torch.Size([5, 2, 3])\n",
      "torch.Size([2, 3])\n"
     ]
    }
   ],
   "source": [
    "\n",
    "# write your code here\n",
    "\n",
    "A = torch.rand(5,2,3)\n",
    "\n",
    "print(A)\n",
    "print(A.type())    # print the type of A\n",
    "print(A.dim())    # print the dimension of A\n",
    "print(A.size())    # print the size of A\n",
    "print(A[0].size())    # print the size of the middle (second) dimension"
   ]
  },
  {
   "cell_type": "markdown",
   "metadata": {},
   "source": [
    "### Make 2 x 3 x 4 x 5 tensor filled with zeros then print it. (The command is torch.zeros). See if you can make sense of the display."
   ]
  },
  {
   "cell_type": "code",
   "execution_count": 8,
   "metadata": {},
   "outputs": [
    {
     "name": "stdout",
     "output_type": "stream",
     "text": [
      "tensor([[[[0., 0., 0., 0., 0.],\n",
      "          [0., 0., 0., 0., 0.],\n",
      "          [0., 0., 0., 0., 0.],\n",
      "          [0., 0., 0., 0., 0.]],\n",
      "\n",
      "         [[0., 0., 0., 0., 0.],\n",
      "          [0., 0., 0., 0., 0.],\n",
      "          [0., 0., 0., 0., 0.],\n",
      "          [0., 0., 0., 0., 0.]],\n",
      "\n",
      "         [[0., 0., 0., 0., 0.],\n",
      "          [0., 0., 0., 0., 0.],\n",
      "          [0., 0., 0., 0., 0.],\n",
      "          [0., 0., 0., 0., 0.]]],\n",
      "\n",
      "\n",
      "        [[[0., 0., 0., 0., 0.],\n",
      "          [0., 0., 0., 0., 0.],\n",
      "          [0., 0., 0., 0., 0.],\n",
      "          [0., 0., 0., 0., 0.]],\n",
      "\n",
      "         [[0., 0., 0., 0., 0.],\n",
      "          [0., 0., 0., 0., 0.],\n",
      "          [0., 0., 0., 0., 0.],\n",
      "          [0., 0., 0., 0., 0.]],\n",
      "\n",
      "         [[0., 0., 0., 0., 0.],\n",
      "          [0., 0., 0., 0., 0.],\n",
      "          [0., 0., 0., 0., 0.],\n",
      "          [0., 0., 0., 0., 0.]]]])\n"
     ]
    }
   ],
   "source": [
    "\n",
    "# write your code here\n",
    "\n",
    "A = torch.zeros(2, 3, 4, 5)\n",
    "\n",
    "print(A)\n"
   ]
  }
 ],
 "metadata": {
  "kernelspec": {
   "display_name": "Python 3",
   "language": "python",
   "name": "python3"
  },
  "language_info": {
   "codemirror_mode": {
    "name": "ipython",
    "version": 3
   },
   "file_extension": ".py",
   "mimetype": "text/x-python",
   "name": "python",
   "nbconvert_exporter": "python",
   "pygments_lexer": "ipython3",
   "version": "3.7.4"
  }
 },
 "nbformat": 4,
 "nbformat_minor": 2
}

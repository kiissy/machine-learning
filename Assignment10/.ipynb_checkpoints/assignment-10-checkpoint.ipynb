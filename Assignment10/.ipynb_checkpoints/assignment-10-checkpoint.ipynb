{
 "cells": [
  {
   "cell_type": "code",
   "execution_count": 3,
   "metadata": {},
   "outputs": [],
   "source": [
    "import numpy as np\n",
    "import matplotlib.pyplot as plt\n",
    "import pandas as pd\n",
    "import copy\n",
    "import time\n",
    "import tensorflow as tf\n",
    "\n",
    "# train\n",
    "import torch\n",
    "from torch import nn\n",
    "from torch.nn import functional as F\n",
    "\n",
    "# load data\n",
    "from torch.utils.data import DataLoader\n",
    "from torchvision import datasets, transforms"
   ]
  },
  {
   "cell_type": "markdown",
   "metadata": {},
   "source": [
    "## 1. Data\n",
    "* you can use any data normalisation method\n",
    "* one example of the data normalisation is whitenning as given by:"
   ]
  },
  {
   "cell_type": "code",
   "execution_count": 4,
   "metadata": {},
   "outputs": [],
   "source": [
    "transform = transforms.Compose([\n",
    "    transforms.ToTensor(),\n",
    "    transforms.Normalize((0.1307,),(0.3081,)),  # mean value = 0.1307, standard deviation value = 0.3081\n",
    "])"
   ]
  },
  {
   "cell_type": "markdown",
   "metadata": {},
   "source": [
    "* load the MNIST dataset\n",
    "* use the original `training` dataset for `testing` your model\n",
    "* use the original `testing` dataset for `training` your model"
   ]
  },
  {
   "cell_type": "code",
   "execution_count": 5,
   "metadata": {},
   "outputs": [],
   "source": [
    "data_path = './MNIST'\n",
    "\n",
    "data_test   = datasets.MNIST(root = data_path, train= True, download=True, transform= transform)\n",
    "data_train  = datasets.MNIST(root = data_path, train= False, download=True, transform= transform)\n"
   ]
  },
  {
   "cell_type": "markdown",
   "metadata": {},
   "source": [
    "* Note that the number of your `training` data must be 10,000\n",
    "* Note that the number of your `testing` data must be 60,000\n"
   ]
  },
  {
   "cell_type": "code",
   "execution_count": 6,
   "metadata": {},
   "outputs": [
    {
     "name": "stdout",
     "output_type": "stream",
     "text": [
      "the number of your training data (must be 10,000) = 10000\n",
      "the number of your testing data (must be 60,000) = 60000\n"
     ]
    }
   ],
   "source": [
    "print(\"the number of your training data (must be 10,000) =\", data_train.__len__())\n",
    "print(\"the number of your testing data (must be 60,000) =\", data_test.__len__())\n"
   ]
  },
  {
   "cell_type": "markdown",
   "metadata": {},
   "source": [
    "## Model\n",
    "* design a neural network architecture with three layers (input layer, one hidden layer and output layer)\n",
    "* the input dimension of the input layer should be 784 (28 * 28)\n",
    "* the output dimension of the output layer should be 10 (class of digits)\n",
    "* all the layers should be `fully connected layers`\n",
    "* use any type of activation functions"
   ]
  },
  {
   "cell_type": "code",
   "execution_count": 30,
   "metadata": {},
   "outputs": [],
   "source": [
    "class classification(nn.Module):\n",
    "    def __init__(self):\n",
    "        super(classification, self).__init__()\n",
    "        \n",
    "        # construct layers for a neural network\n",
    "        self.classifier1 = nn.Sequential(\n",
    "            nn.Linear(in_features=28*28, out_features=20*20),\n",
    "            nn.Sigmoid(),\n",
    "        ) \n",
    "        self.classifier2 = nn.Sequential(\n",
    "            nn.Linear(in_features=24*24, out_features=20*20),\n",
    "            nn.Sigmoid(),\n",
    "        ) \n",
    "        self.classifier3 = nn.Sequential(\n",
    "            nn.Linear(in_features=20*20, out_features=10),\n",
    "            nn.LogSoftmax(dim=1),\n",
    "        ) \n",
    "        \n",
    "        \n",
    "    def forward(self, inputs):                 # [batchSize, 1, 28, 28]\n",
    "        x = inputs.view(inputs.size(0), -1)    # [batchSize, 28*28]\n",
    "        x = self.classifier1(x)                # [batchSize, 20*20]\n",
    "        x = self.classifier2(x)                # [batchSize, 10*10]\n",
    "        out = self.classifier3(x)              # [batchSize, 10]\n",
    "        \n",
    "        return out"
   ]
  },
  {
   "cell_type": "markdown",
   "metadata": {},
   "source": [
    "## Optimization\n",
    "* use any stochastic gradient descent algorithm for the optimization\n",
    "* use any size of the mini-batch\n",
    "* use any optimization algorithm (for example, Momentum, AdaGrad, RMSProp, Adam)\n",
    "* use any regularization algorithm (for example, Dropout, Weight Decay)\n",
    "* use any annealing scheme for the learning rate (for example, constant, decay, staircase)"
   ]
  },
  {
   "cell_type": "code",
   "execution_count": 2,
   "metadata": {},
   "outputs": [],
   "source": [
    "def accuracy(log_pred, y_true):\n",
    "    y_pred = torch.argmax(log_pred, dim=1)\n",
    "    return (y_pred == y_true).to(torch.float).mean()\n"
   ]
  },
  {
   "cell_type": "code",
   "execution_count": 27,
   "metadata": {},
   "outputs": [
    {
     "name": "stdout",
     "output_type": "stream",
     "text": [
      "done\n"
     ]
    }
   ],
   "source": [
    "batch_size = 256\n",
    "lr=0.5\n",
    "n_epochs = 20\n",
    "\n",
    "no_cuda = True\n",
    "use_cuda = not no_cuda and torch.cuda.is_available()\n",
    "device = torch.device(\"cuda\" if use_cuda else \"cpu\")\n",
    "\n",
    "train_loader = DataLoader(dataset=data_train, batch_size=batch_size, shuffle=True)\n",
    "test_loader = DataLoader(dataset=data_test, batch_size=batch_size, shuffle=True)\n",
    "\n",
    "classifier = classification().to(device)\n",
    "optimizer = torch.optim.SGD(classifier.parameters(), lr)\n",
    "\n",
    "criterion = nn.NLLLoss()\n",
    "\n",
    "accuracy_stats = {\n",
    "    'train': [],\n",
    "    \"test\": []\n",
    "}\n",
    "loss_stats = {\n",
    "    'train': [],\n",
    "    \"test\": []\n",
    "}\n",
    "\n",
    "for epoch in range(n_epochs):\n",
    "    \n",
    "    # TRAINING\n",
    "    train_epoch_loss = 0\n",
    "    train_epoch_acc = 0\n",
    "    \n",
    "    classifier.train()\n",
    "    \n",
    "    for X_train_batch, y_train_batch in train_loader:\n",
    "        X_train_batch, y_train_batch = X_train_batch.to(device), y_train_batch.to(device)\n",
    "        \n",
    "        optimizer.zero_grad()\n",
    "        \n",
    "        y_train_pred = classifier(X_train_batch)\n",
    "        \n",
    "        train_loss = criterion(y_train_pred, y_train_batch)\n",
    "        train_acc = accuracy(y_train_pred, y_train_batch)\n",
    "        \n",
    "        train_loss.backward()\n",
    "        optimizer.step()\n",
    "        \n",
    "        train_epoch_loss += train_loss.item()\n",
    "        train_epoch_acc += train_acc.item()\n",
    "        \n",
    "    with torch.no_grad():\n",
    "        test_epoch_loss = 0\n",
    "        test_epoch_acc = 0\n",
    "        \n",
    "        classifier.eval()\n",
    "        \n",
    "        for X_test_batch, y_test_batch in test_loader:\n",
    "            X_test_batch, y_test_batch = X_test_batch.to(device), y_test_batch.to(device)\n",
    "        \n",
    "            y_test_pred = classifier(X_test_batch)\n",
    "            \n",
    "            test_loss = criterion(y_test_pred, y_test_batch)\n",
    "            test_acc = accuracy(y_test_pred, y_test_batch)\n",
    "            \n",
    "            test_epoch_loss += test_loss.item()\n",
    "            test_epoch_acc += test_acc.item()\n",
    "            \n",
    "    loss_stats['train'].append(train_epoch_loss/len(train_loader))\n",
    "    loss_stats['test'].append(test_epoch_loss/len(test_loader))\n",
    "    accuracy_stats['train'].append(train_epoch_acc/len(train_loader))\n",
    "    accuracy_stats['test'].append(test_epoch_acc/len(test_loader))\n",
    "         \n",
    "print('done')"
   ]
  },
  {
   "cell_type": "code",
   "execution_count": 74,
   "metadata": {},
   "outputs": [
    {
     "name": "stdout",
     "output_type": "stream",
     "text": [
      "[0.0648531833662281, 0.0648531833662281, 0.0648531833662281, 0.0648531833662281, 0.0648531833662281, 0.0648531833662281, 0.0648531833662281, 0.0648531833662281, 0.0648531833662281, 0.0648531833662281, 0.0648531833662281, 0.0648531833662281, 0.0648531833662281, 0.0648531833662281, 0.0648531833662281, 0.0648531833662281, 0.0648531833662281, 0.0648531833662281, 0.0648531833662281, 0.0648531833662281, 0.0648531833662281, 0.0648531833662281, 0.0648531833662281, 0.0648531833662281, 0.0648531833662281, 0.0648531833662281, 0.0648531833662281, 0.0648531833662281, 0.0648531833662281, 0.0648531833662281, 0.0648531833662281, 0.0648531833662281, 0.0648531833662281, 0.0648531833662281, 0.0648531833662281, 0.0648531833662281, 0.0648531833662281, 0.0648531833662281, 0.0648531833662281, 0.0648531833662281, 0.0648531833662281, 0.0648531833662281, 0.0648531833662281, 0.0648531833662281, 0.0648531833662281, 0.0648531833662281, 0.0648531833662281, 0.0648531833662281, 0.0648531833662281, 0.0648531833662281, 0.0648531833662281, 0.0648531833662281, 0.0648531833662281, 0.0648531833662281, 0.0648531833662281, 0.0648531833662281, 0.0648531833662281, 0.0648531833662281, 0.0648531833662281, 0.0648531833662281]\n"
     ]
    }
   ],
   "source": [
    "print(loss_stats['test'])"
   ]
  },
  {
   "cell_type": "code",
   "execution_count": 28,
   "metadata": {},
   "outputs": [
    {
     "data": {
      "image/png": "[encoded data removed]",
      "text/plain": [
       "<Figure size 648x648 with 1 Axes>"
      ]
     },
     "metadata": {
      "needs_background": "light"
     },
     "output_type": "display_data"
    }
   ],
   "source": [
    "plt.figure(1,figsize=(9,9))\n",
    "plt.plot(np.array(range(n_epochs)), loss_stats['train'], c='r', label='train_loss')\n",
    "plt.plot(np.array(range(n_epochs)), loss_stats['test'], label='test_loss')\n",
    "plt.legend()\n",
    "plt.title('loss')\n",
    "plt.show()"
   ]
  },
  {
   "cell_type": "code",
   "execution_count": 29,
   "metadata": {},
   "outputs": [
    {
     "data": {
      "image/png": "[encoded data removed]",
      "text/plain": [
       "<Figure size 648x648 with 1 Axes>"
      ]
     },
     "metadata": {
      "needs_background": "light"
     },
     "output_type": "display_data"
    }
   ],
   "source": [
    "plt.figure(1,figsize=(9,9))\n",
    "plt.plot(np.array(range(n_epochs)), accuracy_stats['train'], c='r', label='train_loss')\n",
    "plt.plot(np.array(range(n_epochs)), accuracy_stats['test'], label='test_loss')\n",
    "plt.legend()\n",
    "plt.title('accuracy')\n",
    "plt.show()"
   ]
  },
  {
   "cell_type": "code",
   "execution_count": 86,
   "metadata": {},
   "outputs": [],
   "source": [
    "final_train_loss = []\n",
    "final_test_loss = []\n",
    "final_train_acc = []\n",
    "final_test_acc = []"
   ]
  },
  {
   "cell_type": "code",
   "execution_count": 108,
   "metadata": {},
   "outputs": [],
   "source": [
    "final_train_loss.append(loss_stats['train'][-1])\n",
    "final_test_loss.append(loss_stats['test'][-1])\n",
    "final_train_acc.append(accuracy_stats['train'][-1])\n",
    "final_test_acc.append(accuracy_stats['test'][-1])"
   ]
  },
  {
   "cell_type": "code",
   "execution_count": 104,
   "metadata": {},
   "outputs": [
    {
     "name": "stdout",
     "output_type": "stream",
     "text": [
      "0.001297\n"
     ]
    }
   ],
   "source": [
    "print('%.6f' % final_train_loss[1])"
   ]
  },
  {
   "cell_type": "code",
   "execution_count": 115,
   "metadata": {},
   "outputs": [
    {
     "name": "stdout",
     "output_type": "stream",
     "text": [
      "mini-batch size = 32 | training accuracy = 1.000000 | testing accuracy = 0.985124\n",
      "mini-batch size = 64 | training accuracy = 1.000000 | testing accuracy = 0.982882\n",
      "mini-batch size = 128 | training accuracy = 0.999650 | testing accuracy = 0.982298\n"
     ]
    }
   ],
   "source": [
    "print('mini-batch size = 32 | training accuracy = %.6f'% final_train_acc[0], '| testing accuracy = %.6f'% final_test_acc[0])\n",
    "print('mini-batch size = 64 | training accuracy = %.6f'% final_train_acc[1], '| testing accuracy = %.6f'% final_test_acc[1])\n",
    "print('mini-batch size = 128 | training accuracy = %.6f'% final_train_acc[2], '| testing accuracy = %.6f'% final_test_acc[2])"
   ]
  },
  {
   "cell_type": "markdown",
   "metadata": {},
   "source": [
    "## 1. Plot the training and testing losses over epochs [2pt]"
   ]
  },
  {
   "cell_type": "code",
   "execution_count": null,
   "metadata": {},
   "outputs": [],
   "source": []
  },
  {
   "cell_type": "markdown",
   "metadata": {},
   "source": [
    "## 2. Plot the training and testing accuracies over epochs [2pt]"
   ]
  },
  {
   "cell_type": "code",
   "execution_count": null,
   "metadata": {},
   "outputs": [],
   "source": []
  },
  {
   "cell_type": "markdown",
   "metadata": {},
   "source": [
    "## 3. Print the final training and testing losses at convergence [2pt]"
   ]
  },
  {
   "cell_type": "code",
   "execution_count": null,
   "metadata": {},
   "outputs": [],
   "source": []
  },
  {
   "cell_type": "markdown",
   "metadata": {},
   "source": [
    "## 4. Print the final training and testing accuracies at convergence [20pt]"
   ]
  },
  {
   "cell_type": "code",
   "execution_count": null,
   "metadata": {},
   "outputs": [],
   "source": []
  }
 ],
 "metadata": {
  "kernelspec": {
   "display_name": "Python 3",
   "language": "python",
   "name": "python3"
  },
  "language_info": {
   "codemirror_mode": {
    "name": "ipython",
    "version": 3
   },
   "file_extension": ".py",
   "mimetype": "text/x-python",
   "name": "python",
   "nbconvert_exporter": "python",
   "pygments_lexer": "ipython3",
   "version": "3.7.4"
  }
 },
 "nbformat": 4,
 "nbformat_minor": 2
}

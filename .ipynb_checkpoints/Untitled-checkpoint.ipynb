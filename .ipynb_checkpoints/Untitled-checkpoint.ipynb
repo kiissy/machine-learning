{
 "cells": [
  {
   "cell_type": "code",
   "execution_count": 39,
   "metadata": {},
   "outputs": [
    {
     "name": "stdout",
     "output_type": "stream",
     "text": [
      "y=1/10x+1/5\n"
     ]
    }
   ],
   "source": [
    "def line_equation(x1, y1, x2, y2):\n",
    "    \n",
    "    x = x2 - x1\n",
    "    y = y2 - y1\n",
    "    abs_x = abs(x)\n",
    "    abs_y = abs(y)\n",
    "    \n",
    "    def gcd(a, b):\n",
    "        if a < b:\n",
    "            (a, b) = (b, a)\n",
    "        while b != 0:\n",
    "            (a, b) = (b, a % b)\n",
    "        return a\n",
    "    \n",
    "    bnum = x * y1 - y * x1\n",
    "    abs_bnum = abs(bnum)\n",
    "    \n",
    "    if x1 == x2:\n",
    "        print('x='+str(x1))\n",
    "    elif y1 == y2:\n",
    "        print('y='+str(y1))\n",
    "    else:\n",
    "        if y % x == 0:\n",
    "            grad = str(abs_y // abs_x)\n",
    "        else:\n",
    "            gcd_xy = gcd(abs_x, abs_y)\n",
    "            grad = str(abs_y // gcd_xy) + '/' + str(abs_x // gcd_xy)\n",
    "        if abs(y/x) == 1:\n",
    "            grad = ''\n",
    "        if y / x < 0:\n",
    "                grad = '-'+grad\n",
    "\n",
    "        if bnum == 0:\n",
    "            bnum = ''\n",
    "        elif bnum % x == 0:\n",
    "            trueb = str(abs_bnum // abs_x)\n",
    "        else:\n",
    "            gcd_b = gcd(abs_x, abs_bnum)\n",
    "            trueb = str(abs_bnum // gcd_b) + '/' + str(abs_x // gcd_b)\n",
    "        if bnum / x > 0:\n",
    "            trueb = '+'+trueb\n",
    "        else:\n",
    "            trueb = '-'+trueb\n",
    "\n",
    "        print('y='+grad+'x'+trueb)\n",
    "\n",
    "line_equation(0, 1, 6, 3)"
   ]
  },
  {
   "cell_type": "code",
   "execution_count": 40,
   "metadata": {},
   "outputs": [
    {
     "name": "stdout",
     "output_type": "stream",
     "text": [
      "    *\n",
      "   ***\n",
      "  *****\n",
      " *******\n",
      "*********\n",
      " *******\n",
      "  *****\n",
      "   ***\n",
      "    *\n"
     ]
    }
   ],
   "source": [
    "def draw_diamond(n):\n",
    "    for x in range(1, n * 2, 2):\n",
    "        print((\" \" * ( (n * 2 - 1 - x) // 2 )) + (\"*\" * x))\n",
    "\n",
    "    for y in range(n * 2 - 3, 0, -2):\n",
    "        print((\" \" * ( (n * 2 - 1 - y) // 2 )) + \"*\" * y)\n",
    "\n",
    "draw_diamond(5)"
   ]
  }
 ],
 "metadata": {
  "kernelspec": {
   "display_name": "Python 3",
   "language": "python",
   "name": "python3"
  },
  "language_info": {
   "codemirror_mode": {
    "name": "ipython",
    "version": 3
   },
   "file_extension": ".py",
   "mimetype": "text/x-python",
   "name": "python",
   "nbconvert_exporter": "python",
   "pygments_lexer": "ipython3",
   "version": "3.7.4"
  }
 },
 "nbformat": 4,
 "nbformat_minor": 2
}

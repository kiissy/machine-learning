{
 "cells": [
  {
   "cell_type": "code",
   "execution_count": 3,
   "metadata": {},
   "outputs": [
    {
     "name": "stdout",
     "output_type": "stream",
     "text": [
      "False\n"
     ]
    }
   ],
   "source": [
    "a = 8/4\n",
    "print(a is 2)"
   ]
  },
  {
   "cell_type": "code",
   "execution_count": 7,
   "metadata": {},
   "outputs": [
    {
     "name": "stdout",
     "output_type": "stream",
     "text": [
      "0\n",
      "1\n"
     ]
    }
   ],
   "source": [
    "count = 0\n",
    "\n",
    "def a():\n",
    "    count = 1\n",
    "    return count > 0\n",
    "\n",
    "def b():\n",
    "    count = 2\n",
    "    return count < 1\n",
    "\n",
    "if a() or b():\n",
    "    print(count)\n",
    "    count = count ** 3 + -3 * count ** 2 + 2 * count + 1\n",
    "\n",
    "print(count)"
   ]
  },
  {
   "cell_type": "code",
   "execution_count": 6,
   "metadata": {},
   "outputs": [
    {
     "name": "stdout",
     "output_type": "stream",
     "text": [
      "True\n",
      "False\n"
     ]
    }
   ],
   "source": [
    "count = 0\n",
    "\n",
    "def a():\n",
    "    count = 1\n",
    "    return count > 0\n",
    "\n",
    "print(a())\n",
    "\n",
    "def b():\n",
    "    count = 2\n",
    "    return count < 1\n",
    "\n",
    "print(b())"
   ]
  },
  {
   "cell_type": "code",
   "execution_count": 13,
   "metadata": {},
   "outputs": [
    {
     "name": "stdout",
     "output_type": "stream",
     "text": [
      "(1,6)\n",
      "(2,5)\n",
      "(3,4)\n"
     ]
    }
   ],
   "source": [
    "def dice_seven():\n",
    "    for i in range(3):\n",
    "        a = i + 1\n",
    "        b = 7 - a\n",
    "        print(\"(\"+str(a)+\",\"+str(b)+\")\")\n",
    "dice_seven()"
   ]
  },
  {
   "cell_type": "code",
   "execution_count": 22,
   "metadata": {},
   "outputs": [
    {
     "name": "stdout",
     "output_type": "stream",
     "text": [
      "2\n"
     ]
    }
   ],
   "source": [
    "k = 3\n",
    "for i in range(2, k):\n",
    "    print(i)"
   ]
  },
  {
   "cell_type": "code",
   "execution_count": 2,
   "metadata": {},
   "outputs": [
    {
     "name": "stdout",
     "output_type": "stream",
     "text": [
      "3\n",
      "4\n",
      "100\n"
     ]
    }
   ],
   "source": [
    "def max(*numbers):\n",
    "    num = -1\n",
    "    for i in numbers:\n",
    "        if i > num:\n",
    "            num = i\n",
    "    return num\n",
    "\n",
    "print(max(1, 2, 3))\n",
    "print(max(3, 4, 2, 1))\n",
    "print(max(3, 4, 2, 1, 10, 100, 5, 7))"
   ]
  },
  {
   "cell_type": "code",
   "execution_count": 61,
   "metadata": {},
   "outputs": [
    {
     "name": "stdout",
     "output_type": "stream",
     "text": [
      "354224848179261915075\n"
     ]
    }
   ],
   "source": [
    "def fibo(n):\n",
    "    list = []\n",
    "    list.append(0)\n",
    "    list.append(1)\n",
    "    if n >= 2:\n",
    "        for i in range(n-1):\n",
    "            num = i + 2\n",
    "            list.append(list[num-1] + list[num-2])\n",
    "    return list[n]\n",
    "\n",
    "print(fibo(100))"
   ]
  },
  {
   "cell_type": "code",
   "execution_count": 2,
   "metadata": {},
   "outputs": [
    {
     "name": "stdout",
     "output_type": "stream",
     "text": [
      "1024\n"
     ]
    }
   ],
   "source": [
    "# def HEN(N):\n",
    "#     if N == 0:\n",
    "#         return 1\n",
    "#     elif N < 100:\n",
    "#         return 2 * HEN(N-1)\n",
    "#     else:\n",
    "#         print('100보다 작은 수를 입력해주세요')\n",
    "    \n",
    "def HEN(N):\n",
    "    if N == 0:\n",
    "        return 1\n",
    "    elif N < 100:\n",
    "        num = 1\n",
    "        for i in range(N):\n",
    "            num = 2 * num\n",
    "        return num\n",
    "    else:\n",
    "        print('100보다 작은 수를 입력해주세요')\n",
    "    \n",
    "print(HEN(10))\n",
    "        "
   ]
  },
  {
   "cell_type": "code",
   "execution_count": 3,
   "metadata": {
    "scrolled": true
   },
   "outputs": [
    {
     "name": "stdout",
     "output_type": "stream",
     "text": [
      "1024\n"
     ]
    }
   ],
   "source": [
    "def HEN(N):\n",
    "    if N == 0:\n",
    "        return 1\n",
    "    elif N < 100:\n",
    "        return 2 * HEN(N-1)\n",
    "    else:\n",
    "        print('100보다 작은 수를 입력해주세요')\n",
    "        \n",
    "print(HEN(10))"
   ]
  },
  {
   "cell_type": "code",
   "execution_count": 1,
   "metadata": {},
   "outputs": [
    {
     "name": "stdout",
     "output_type": "stream",
     "text": [
      "1\n",
      "2\n",
      "6\n",
      "4\n",
      "5\n"
     ]
    }
   ],
   "source": [
    "scores = [1, 2, 3, 4, 5]\n",
    "values = scores\n",
    "values[2] = 6\n",
    "\n",
    "for s in scores:\n",
    "    print(s)"
   ]
  },
  {
   "cell_type": "code",
   "execution_count": 3,
   "metadata": {},
   "outputs": [
    {
     "name": "stdout",
     "output_type": "stream",
     "text": [
      "1\n",
      "9\n",
      "25\n",
      "49\n",
      "81\n",
      "165\n"
     ]
    }
   ],
   "source": [
    "sum = 0\n",
    "for n in [x ** 2 for x in range(10) if x % 2 > 0]:\n",
    "    print(n)\n",
    "    sum = sum + n\n",
    "\n",
    "print(sum)"
   ]
  },
  {
   "cell_type": "code",
   "execution_count": 6,
   "metadata": {},
   "outputs": [
    {
     "name": "stdout",
     "output_type": "stream",
     "text": [
      "28.274333882308138 18.84955592153876\n",
      "<class 'float'> <class 'float'>\n",
      "radius = 3 ==> area = 28, circumference = 18\n"
     ]
    }
   ],
   "source": [
    "import math\n",
    "\n",
    "def calcCircle(r):\n",
    "    area = math.pi * r * r\n",
    "    circumference = 2 * math.pi * r\n",
    "    return (area, circumference)\n",
    "    \n",
    "r = 3\n",
    "(a, c) = calcCircle(r)\n",
    "print(a, c)\n",
    "print(type(a), type(c))\n",
    "print(\"radius = %d ==> area = %d, circumference = %d\" % (r, a, c))"
   ]
  },
  {
   "cell_type": "code",
   "execution_count": 16,
   "metadata": {},
   "outputs": [
    {
     "name": "stdout",
     "output_type": "stream",
     "text": [
      "[[ 1.  2.  3.  4.]\n",
      " [ 8.  7.  6.  5.]\n",
      " [ 9. 10. 11. 12.]\n",
      " [16. 15. 14. 13.]]\n"
     ]
    }
   ],
   "source": [
    "import numpy as np\n",
    "\n",
    "def matrix(n):\n",
    "    arr = np.zeros((n,n))\n",
    "    num = 1\n",
    "    for i in range(n):\n",
    "        if i % 2 == 0:\n",
    "            for j in range(n):\n",
    "                arr[i][j] = num\n",
    "                num = num + 1\n",
    "        else:\n",
    "            for j in range(n-1, -1, -1):\n",
    "                arr[i][j] = num\n",
    "                num = num + 1\n",
    "    return arr\n",
    "\n",
    "print(matrix(4))"
   ]
  },
  {
   "cell_type": "code",
   "execution_count": 8,
   "metadata": {},
   "outputs": [
    {
     "name": "stdout",
     "output_type": "stream",
     "text": [
      "3\n",
      "2\n",
      "1\n",
      "0\n"
     ]
    }
   ],
   "source": [
    "for i in range(3, -1, -1):\n",
    "    print(i)"
   ]
  },
  {
   "cell_type": "code",
   "execution_count": 36,
   "metadata": {},
   "outputs": [
    {
     "name": "stdout",
     "output_type": "stream",
     "text": [
      "2957457292912\n",
      "T1 - Truck is driving...\n",
      "2957457091504\n",
      "T2 - Taxi is driving...\n",
      "2957457929648\n",
      "T3 - Truck is driving...\n",
      "<class '__main__.Truck'> <class 'str'>\n",
      "<__main__.array object at 0x000002B096300208>\n"
     ]
    }
   ],
   "source": [
    "class Vehicle:\n",
    "    def __init__(self, name):\n",
    "        self.__name = name\n",
    "        \n",
    "    def __str__(self):\n",
    "        return self.__name\n",
    "        \n",
    "    def drive(self):\n",
    "        print(str(self) + ' - Vehicle is driving...')\n",
    "    \n",
    "class Truck(Vehicle):\n",
    "    def drive(self):\n",
    "        print(id(str(self)))\n",
    "        print(str(self) + ' - Truck is driving...')\n",
    "\n",
    "class Taxi(Vehicle):\n",
    "    def drive(self):\n",
    "        print(id(str(self)))\n",
    "        print(str(self) + ' - Taxi is driving...')\n",
    "\n",
    "cars = [Truck('T1'), Taxi('T2'), Truck('T3')]\n",
    "for car in cars: car.drive()\n",
    "print(type(cars[0]), type(str(cars[0])))\n",
    "\n",
    "class array:\n",
    "    def __init__(self, name):\n",
    "        self.name = name\n",
    "        \n",
    "arr = array('name')\n",
    "print(str(arr))"
   ]
  },
  {
   "cell_type": "code",
   "execution_count": 2,
   "metadata": {},
   "outputs": [
    {
     "name": "stdout",
     "output_type": "stream",
     "text": [
      "95\n",
      "90.0\n"
     ]
    }
   ],
   "source": [
    "from gt import *\n",
    "\n",
    "gt = GradeTable()\n",
    "gt.add('202001', 85)        # 학번: 202001, 점수: 85\n",
    "gt.add('202002', 88)        # 학번: 202002, 점수: 88\n",
    "gt.add('202003', 95)        # 학번: 202003, 점수: 95\n",
    "gt.add('202004', 92)        # 학번: 202004, 점수: 92\n",
    "gt.add('202005', 90)        # 학번: 202005, 점수: 90\n",
    "\n",
    "print(gt.getScore('202003'))    # 출력: 95\n",
    "print(gt.getAverage())          # 출력: 90.0"
   ]
  },
  {
   "cell_type": "code",
   "execution_count": null,
   "metadata": {},
   "outputs": [],
   "source": [
    "! pip uninstall gt\n",
    "! pip install gt"
   ]
  },
  {
   "cell_type": "code",
   "execution_count": null,
   "metadata": {},
   "outputs": [],
   "source": []
  }
 ],
 "metadata": {
  "kernelspec": {
   "display_name": "Python 3",
   "language": "python",
   "name": "python3"
  },
  "language_info": {
   "codemirror_mode": {
    "name": "ipython",
    "version": 3
   },
   "file_extension": ".py",
   "mimetype": "text/x-python",
   "name": "python",
   "nbconvert_exporter": "python",
   "pygments_lexer": "ipython3",
   "version": "3.7.4"
  }
 },
 "nbformat": 4,
 "nbformat_minor": 2
}
